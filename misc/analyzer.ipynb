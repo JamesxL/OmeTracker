{
 "metadata": {
  "language_info": {
   "codemirror_mode": {
    "name": "ipython",
    "version": 3
   },
   "file_extension": ".py",
   "mimetype": "text/x-python",
   "name": "python",
   "nbconvert_exporter": "python",
   "pygments_lexer": "ipython3",
   "version": "3.8.10"
  },
  "orig_nbformat": 2,
  "kernelspec": {
   "name": "python3",
   "display_name": "Python 3.8.10 64-bit"
  },
  "interpreter": {
   "hash": "767d51c1340bd893661ea55ea3124f6de3c7a262a8b4abca0554b478b1e2ff90"
  }
 },
 "nbformat": 4,
 "nbformat_minor": 2,
 "cells": [
  {
   "cell_type": "code",
   "execution_count": 39,
   "source": [
    "#from mpl_toolkits import mplot3d\n",
    "\n",
    "import numpy as np\n",
    "import matplotlib.pyplot as plt\n",
    "import pandas as pd\n",
    "%matplotlib widget\n"
   ],
   "outputs": [],
   "metadata": {}
  },
  {
   "cell_type": "code",
   "execution_count": 40,
   "source": [
    "file = 'summary.txt'"
   ],
   "outputs": [],
   "metadata": {}
  },
  {
   "cell_type": "code",
   "execution_count": 41,
   "source": [
    "df = pd.read_csv(file)\n"
   ],
   "outputs": [],
   "metadata": {}
  },
  {
   "cell_type": "code",
   "execution_count": 42,
   "source": [
    "df[df.lap!=0].groupby(['session','lap']).lap_time.max().nsmallest(100)"
   ],
   "outputs": [
    {
     "output_type": "execute_result",
     "data": {
      "text/plain": [
       "session  lap\n",
       "2        3      252.648678\n",
       "         4      254.201593\n",
       "1        3      265.160258\n",
       "         2      267.130478\n",
       "2        2      269.476888\n",
       "3        1      280.050244\n",
       "4        1      283.824872\n",
       "2        1      286.527345\n",
       "3        3      291.129264\n",
       "1        1      292.639365\n",
       "4        4      293.723298\n",
       "         3      295.643425\n",
       "         2      298.443402\n",
       "3        2      342.280162\n",
       "2        5      405.582327\n",
       "1        4      491.518734\n",
       "3        4      559.912868\n",
       "4        5      705.172497\n",
       "Name: lap_time, dtype: float64"
      ]
     },
     "metadata": {},
     "execution_count": 42
    }
   ],
   "metadata": {}
  },
  {
   "cell_type": "code",
   "execution_count": 43,
   "source": [
    "\n",
    "#ax.scatter3D(df.longitude, df.latitude, df.groundspeed)\n",
    "ref = df[(df.session==2)&(df.lap==3)]\n",
    "test = df[(df.session==3)&(df.lap==1)]"
   ],
   "outputs": [],
   "metadata": {}
  },
  {
   "cell_type": "code",
   "execution_count": 44,
   "source": [
    "# lines\n",
    "plt.figure(figsize=(13, 13))\n",
    "\n",
    "plt.scatter(ref.longitude, ref.latitude, s=0.1, color='red')\n",
    "plt.scatter(test.longitude, test.latitude, s=0.1,  color='blue')\n",
    "plt.legend(['ref','test'])\n",
    "\n",
    "plt.show()\n"
   ],
   "outputs": [
    {
     "output_type": "display_data",
     "data": {
      "application/vnd.jupyter.widget-view+json": {
       "version_major": 2,
       "version_minor": 0,
       "model_id": "8881ce7c20f94558af5b7c5d2393aec9"
      },
      "text/plain": [
       "Canvas(toolbar=Toolbar(toolitems=[('Home', 'Reset original view', 'home', 'home'), ('Back', 'Back to previous …"
      ]
     },
     "metadata": {}
    }
   ],
   "metadata": {}
  },
  {
   "cell_type": "code",
   "execution_count": 45,
   "source": [
    "plt.figure(figsize=(14, 10))\n",
    "\n",
    "plt.scatter(ref.longitude, ref.latitude, c=ref.groundspeed,\n",
    "            cmap='jet', s=1, vmin=0, vmax=200, marker='o')\n",
    "plt.scatter(test.longitude, test.latitude, c=test.groundspeed,\n",
    "            cmap='jet', s=1, vmin=0, vmax=200,marker='x')\n",
    "\n",
    "cbar = plt.colorbar()\n",
    "cbar.solids.set_edgecolor(\"face\")\n",
    "\n",
    "plt.show()\n"
   ],
   "outputs": [
    {
     "output_type": "display_data",
     "data": {
      "application/vnd.jupyter.widget-view+json": {
       "version_major": 2,
       "version_minor": 0,
       "model_id": "bf5d54c5dfab4ef4802d423db1be0a20"
      },
      "text/plain": [
       "Canvas(toolbar=Toolbar(toolitems=[('Home', 'Reset original view', 'home', 'home'), ('Back', 'Back to previous …"
      ]
     },
     "metadata": {}
    }
   ],
   "metadata": {}
  },
  {
   "cell_type": "code",
   "execution_count": 46,
   "source": [
    "plt.figure(figsize=(13, 10))\n",
    "\n",
    "plt.scatter(ref.lap_time, ref.groundspeed, s=0.1, color='red')\n",
    "plt.scatter(test.lap_time, test.groundspeed, s=0.1, color='blue')\n",
    "plt.legend(['ref','test'])\n",
    "\n",
    "\n",
    "plt.show()"
   ],
   "outputs": [
    {
     "output_type": "display_data",
     "data": {
      "application/vnd.jupyter.widget-view+json": {
       "version_major": 2,
       "version_minor": 0,
       "model_id": "40cf992c8cdb4b53a4508c5d4fa843f6"
      },
      "text/plain": [
       "Canvas(toolbar=Toolbar(toolitems=[('Home', 'Reset original view', 'home', 'home'), ('Back', 'Back to previous …"
      ]
     },
     "metadata": {}
    }
   ],
   "metadata": {}
  },
  {
   "cell_type": "code",
   "execution_count": 47,
   "source": [
    "\n",
    "fig, ax = plt.subplots(2)\n",
    "\n",
    "ax[0].scatter(ref.lap_time, ref.groundspeed, s=0.1)\n",
    "ax[1].scatter(test.lap_time, test.groundspeed, s=0.1)\n",
    "\n",
    "\n",
    "plt.show()"
   ],
   "outputs": [
    {
     "output_type": "display_data",
     "data": {
      "application/vnd.jupyter.widget-view+json": {
       "version_major": 2,
       "version_minor": 0,
       "model_id": "fca4fe67ac0c4bc686d609451a784047"
      },
      "text/plain": [
       "Canvas(toolbar=Toolbar(toolitems=[('Home', 'Reset original view', 'home', 'home'), ('Back', 'Back to previous …"
      ]
     },
     "metadata": {}
    }
   ],
   "metadata": {}
  },
  {
   "cell_type": "code",
   "execution_count": null,
   "source": [],
   "outputs": [],
   "metadata": {}
  }
 ]
}