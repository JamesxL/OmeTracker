{
 "metadata": {
  "language_info": {
   "codemirror_mode": {
    "name": "ipython",
    "version": 3
   },
   "file_extension": ".py",
   "mimetype": "text/x-python",
   "name": "python",
   "nbconvert_exporter": "python",
   "pygments_lexer": "ipython3",
   "version": "3.8.10"
  },
  "orig_nbformat": 2,
  "kernelspec": {
   "name": "python3",
   "display_name": "Python 3.8.10 64-bit"
  },
  "interpreter": {
   "hash": "767d51c1340bd893661ea55ea3124f6de3c7a262a8b4abca0554b478b1e2ff90"
  }
 },
 "nbformat": 4,
 "nbformat_minor": 2,
 "cells": [
  {
   "cell_type": "code",
   "execution_count": 12,
   "source": [
    "#from mpl_toolkits import mplot3d\n",
    "\n",
    "import numpy as np\n",
    "import matplotlib.pyplot as plt\n",
    "import pandas as pd\n",
    "from ipyleaflet import *\n",
    "from ipyleaflet.velocity import Velocity\n",
    "import os\n",
    "import numpy as np\n",
    "import xarray as xr\n",
    " \n",
    "%matplotlib widget\n"
   ],
   "outputs": [],
   "metadata": {}
  },
  {
   "cell_type": "code",
   "execution_count": 13,
   "source": [
    "#file =  os.path.expanduser(f'/home/james/workspace/logs/TrackLogs/20210904Thunderhill5mile/summary.txt')\n",
    "file =  os.path.expanduser(f'/home/james/workspace/logs/Ome2/logs/most2.csv')\n"
   ],
   "outputs": [],
   "metadata": {}
  },
  {
   "cell_type": "code",
   "execution_count": 14,
   "source": [
    "df = pd.read_csv(file)\n",
    "#df['u_spd'] = df.groundspeed * np.sin(df.true_track)\n",
    "#df['v_spd']  = df.groundspeed * np.cos(df.true_track)\n"
   ],
   "outputs": [],
   "metadata": {}
  },
  {
   "cell_type": "code",
   "execution_count": 15,
   "source": [
    "#df[df.lap!=0].groupby(['session','lap']).lap_time.max().nsmallest(100)"
   ],
   "outputs": [],
   "metadata": {}
  },
  {
   "cell_type": "code",
   "execution_count": 16,
   "source": [
    "#ax.scatter3D(df.longitude, df.latitude, df.groundspeed)\n",
    "ref = df\n",
    "test =df\n",
    "#ref = df[(df.session==2)&(df.lap==3)]\n",
    "#test = df[(df.session==3)&(df.lap==1)]"
   ],
   "outputs": [],
   "metadata": {}
  },
  {
   "cell_type": "code",
   "execution_count": 23,
   "source": [
    "\n",
    "\n",
    "test_coords = test[['latitude', 'longitude']].values.tolist()\n",
    "ref_coords = ref[['latitude', 'longitude']].values.tolist()\n",
    "\n",
    "center = ((ref.latitude.max()+ref.latitude.min())/2, (ref.longitude.max()+ref.longitude.min())/2)\n",
    "\n",
    "#m = Map(basemap=basemaps.OpenStreetMap.Mapnik, center=center, zoom=17)\n",
    "m = Map(basemap=basemaps.Esri.WorldImagery,center=center, zoom=12)\n",
    "m.layout.height = '1600px'\n",
    "\n",
    "#marker = Marker(location=center, draggable=True)\n",
    "# m.add_layer(marker)\n",
    "\n",
    "testline = Polyline(locations=test_coords,\n",
    "                    color='#0000fF', fill=False, weight=2, opacity=0.8)\n",
    "refline = Polyline(locations=ref_coords,\n",
    "                   color='#ff0000', fill=False, weight=2, opacity=0.8)\n",
    "m.add_layer(testline)\n",
    "m.add_layer(refline)\n",
    "\n",
    "# Now that the marker is on the Map, you can drag it with your mouse,\n",
    "# it will automatically update the `marker.location` attribute in Python\n",
    "\n",
    "# You can also update the marker location from Python, that will update the\n",
    "# marker location on the Map:\n",
    "#marker.location = (50, 356)\n",
    "#m.save('my_map.html', title='My Map')\n",
    "display(m)\n",
    "\n"
   ],
   "outputs": [
    {
     "output_type": "display_data",
     "data": {
      "application/vnd.jupyter.widget-view+json": {
       "version_major": 2,
       "version_minor": 0,
       "model_id": "6796d0ba71674931b913ec48f2609bc3"
      },
      "text/plain": [
       "Map(center=[37.57587325, -122.1764387], controls=(ZoomControl(options=['position', 'zoom_in_text', 'zoom_in_ti…"
      ]
     },
     "metadata": {}
    }
   ],
   "metadata": {}
  },
  {
   "cell_type": "code",
   "execution_count": null,
   "source": [],
   "outputs": [],
   "metadata": {}
  },
  {
   "cell_type": "code",
   "execution_count": 19,
   "source": [
    "plt.figure(figsize=(14, 10))\n",
    "\n",
    "plt.scatter(ref.longitude, ref.latitude, c=ref.groundspeed,\n",
    "            cmap='jet', s=1, vmin=0, vmax=200, marker='o')\n",
    "plt.scatter(test.longitude, test.latitude, c=test.groundspeed,\n",
    "            cmap='jet', s=1, vmin=0, vmax=200,marker='x')\n",
    "\n",
    "cbar = plt.colorbar()\n",
    "cbar.solids.set_edgecolor(\"face\")\n",
    "\n",
    "plt.show()\n"
   ],
   "outputs": [
    {
     "output_type": "display_data",
     "data": {
      "application/vnd.jupyter.widget-view+json": {
       "version_major": 2,
       "version_minor": 0,
       "model_id": "5df003857344432480dc57c48490c7e1"
      },
      "text/plain": [
       "Canvas(toolbar=Toolbar(toolitems=[('Home', 'Reset original view', 'home', 'home'), ('Back', 'Back to previous …"
      ]
     },
     "metadata": {}
    }
   ],
   "metadata": {}
  },
  {
   "cell_type": "code",
   "execution_count": 20,
   "source": [
    "plt.figure(figsize=(13, 10))\n",
    "\n",
    "plt.scatter(ref.lap_time, ref.groundspeed, s=0.1, color='red')\n",
    "plt.scatter(test.lap_time, test.groundspeed, s=0.1, color='blue')\n",
    "plt.legend(['ref','test'])\n",
    "\n",
    "\n",
    "plt.show()"
   ],
   "outputs": [
    {
     "output_type": "display_data",
     "data": {
      "application/vnd.jupyter.widget-view+json": {
       "version_major": 2,
       "version_minor": 0,
       "model_id": "be84e31fc171412a9585edf4a3e1c802"
      },
      "text/plain": [
       "Canvas(toolbar=Toolbar(toolitems=[('Home', 'Reset original view', 'home', 'home'), ('Back', 'Back to previous …"
      ]
     },
     "metadata": {}
    }
   ],
   "metadata": {}
  },
  {
   "cell_type": "code",
   "execution_count": 21,
   "source": [
    "\n",
    "fig, ax = plt.subplots(2)\n",
    "\n",
    "ax[0].scatter(ref.lap_time, ref.groundspeed, s=0.1)\n",
    "ax[1].scatter(test.lap_time, test.groundspeed, s=0.1)\n",
    "\n",
    "\n",
    "plt.show()"
   ],
   "outputs": [
    {
     "output_type": "display_data",
     "data": {
      "application/vnd.jupyter.widget-view+json": {
       "version_major": 2,
       "version_minor": 0,
       "model_id": "90b91a11fe9540d6ac27f17b49123ab1"
      },
      "text/plain": [
       "Canvas(toolbar=Toolbar(toolitems=[('Home', 'Reset original view', 'home', 'home'), ('Back', 'Back to previous …"
      ]
     },
     "metadata": {}
    }
   ],
   "metadata": {}
  },
  {
   "cell_type": "code",
   "execution_count": 22,
   "source": [
    "# lines\n",
    "plt.figure(figsize=(13, 13))\n",
    "\n",
    "plt.scatter(ref.longitude,ref.latitude, s=0.1, color='red')\n",
    "plt.scatter(test.longitude, test.latitude, s=0.1,  color='blue')\n",
    "plt.legend(['ref','test'])\n",
    "\n",
    "plt.show()"
   ],
   "outputs": [
    {
     "output_type": "display_data",
     "data": {
      "application/vnd.jupyter.widget-view+json": {
       "version_major": 2,
       "version_minor": 0,
       "model_id": "7a4c1b58743b49d9946a3ef603dd22d4"
      },
      "text/plain": [
       "Canvas(toolbar=Toolbar(toolitems=[('Home', 'Reset original view', 'home', 'home'), ('Back', 'Back to previous …"
      ]
     },
     "metadata": {}
    }
   ],
   "metadata": {}
  },
  {
   "cell_type": "code",
   "execution_count": null,
   "source": [],
   "outputs": [],
   "metadata": {}
  },
  {
   "cell_type": "code",
   "execution_count": null,
   "source": [],
   "outputs": [],
   "metadata": {}
  },
  {
   "cell_type": "code",
   "execution_count": null,
   "source": [],
   "outputs": [],
   "metadata": {}
  }
 ]
}