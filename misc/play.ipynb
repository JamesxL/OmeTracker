{
 "cells": [
  {
   "cell_type": "code",
   "execution_count": 34,
   "metadata": {},
   "outputs": [],
   "source": [
    "import pandas as pd\n",
    "import os\n",
    "from ipyleaflet import *\n",
    "from ipyleaflet.velocity import Velocity\n",
    "from datetime import datetime\n",
    "\n",
    "from influxdb_client import InfluxDBClient, Point, WritePrecision,WriteOptions\n",
    "from influxdb_client.client.write_api import SYNCHRONOUS, PointSettings\n",
    "import os\n",
    "import pandas as pd\n",
    "\n",
    "\n",
    "%matplotlib widget\n",
    "\n"
   ]
  },
  {
   "cell_type": "code",
   "execution_count": null,
   "metadata": {},
   "outputs": [],
   "source": []
  },
  {
   "cell_type": "code",
   "execution_count": 35,
   "metadata": {},
   "outputs": [],
   "source": [
    "token = \"lVW_1FGpS31BowGBtmYtNxeWoGfugyDha2gJd1CbEbrSgpgiecr0xtbLlYFBbiMP2keyoxYCH2OhRwyX3sh0pg==\"\n",
    "org = \"musa\"\n",
    "bucket = \"smams\"\n"
   ]
  },
  {
   "cell_type": "code",
   "execution_count": 36,
   "metadata": {},
   "outputs": [
    {
     "name": "stdout",
     "output_type": "stream",
     "text": [
      "        timestamp(ms)  year  month  day  hour  min  sec   iToW(ms)  \\\n",
      "0               15182  2022      7    2    17   11   53  580331960   \n",
      "1               15208  2022      7    2    17   11   54  580332080   \n",
      "2               15243  2022      7    2    17   11   54  580332120   \n",
      "3               15283  2022      7    2    17   11   54  580332160   \n",
      "4               15323  2022      7    2    17   11   54  580332200   \n",
      "...               ...   ...    ...  ...   ...  ...  ...        ...   \n",
      "103956        4168824  2022      7    2    18   21   13  584491000   \n",
      "103957        4168865  2022      7    2    18   21   13  584491040   \n",
      "103958        4168910  2022      7    2    18   21   13  584491080   \n",
      "103959        4168946  2022      7    2    18   21   13  584491120   \n",
      "103960        4168986  2022      7    2    18   21   13  584491160   \n",
      "\n",
      "               lon        lat  ...  headMot  satcnt  fixType  fixstatus  \\\n",
      "0      -1219435482  373966095  ...      274      11        3          1   \n",
      "1      -1219435485  373966090  ...      274      11        3          1   \n",
      "2      -1219435486  373966089  ...      274      11        3          1   \n",
      "3      -1219435489  373966088  ...      274      11        3          1   \n",
      "4      -1219435492  373966086  ...      274      11        3          1   \n",
      "...            ...        ...  ...      ...     ...      ...        ...   \n",
      "103956 -1215907918  370213018  ...      133      16        3          3   \n",
      "103957 -1215907918  370213018  ...      133      16        3          3   \n",
      "103958 -1215907918  370213018  ...      133      16        3          3   \n",
      "103959 -1215907918  370213018  ...      133      16        3          3   \n",
      "103960 -1215907919  370213018  ...      133      16        3          3   \n",
      "\n",
      "        accel_lon  accel_lat  accel_gvt   imu_temp      baro_pres  baro_temp  \n",
      "0       -0.000000  -0.000000  -0.000000   0.000000       0.000000   0.000000  \n",
      "1        0.092773   0.003784   0.993042  28.867809  101655.179688  27.401802  \n",
      "2        0.087769   0.007935   0.985596  29.063648  101654.742188  27.398109  \n",
      "3        0.080444   0.012451   0.987061  29.014688  101655.171875  27.401283  \n",
      "4        0.077637   0.014771   0.988403  28.867809  101654.789062  27.401802  \n",
      "...           ...        ...        ...        ...            ...        ...  \n",
      "103956   0.098022  -0.037354   0.970337  72.980423  100861.570312  76.189514  \n",
      "103957   0.098511  -0.037720   0.970459  72.980423  100861.750000  76.187889  \n",
      "103958   0.098145  -0.037964   0.969971  73.176254  100861.335938  76.186050  \n",
      "103959   0.096680  -0.037964   0.970093  72.931458  100861.640625  76.186050  \n",
      "103960   0.098389  -0.036621   0.969849  72.931458  100861.125000  76.181992  \n",
      "\n",
      "[103961 rows x 22 columns]\n"
     ]
    }
   ],
   "source": [
    "file =  os.path.expanduser(f'/home/james/workspace/logs/testlog/000004.CSV')\n",
    "\n",
    "df = pd.read_csv(file, header=0)\n",
    "\n",
    "print(df)"
   ]
  },
  {
   "cell_type": "code",
   "execution_count": null,
   "metadata": {},
   "outputs": [],
   "source": []
  },
  {
   "cell_type": "code",
   "execution_count": 37,
   "metadata": {},
   "outputs": [],
   "source": [
    "_timestamps = pd.to_datetime(df[['year','month','day']].astype(str).apply('-'.join,1)+\" \"+df[['hour','min','sec']].astype(str).apply(':'.join,1)+\".\"+(df['iToW(ms)']%1000).astype(str),utc=False)"
   ]
  },
  {
   "cell_type": "code",
   "execution_count": 38,
   "metadata": {},
   "outputs": [
    {
     "name": "stdout",
     "output_type": "stream",
     "text": [
      "<class 'pandas.core.indexes.datetimes.DatetimeIndex'>\n"
     ]
    }
   ],
   "source": [
    "df = df.set_index(_timestamps).drop(columns=['year','month','day','hour','min','sec','iToW(ms)','timestamp(ms)'])\n",
    "#df.index.name = '_timestamps'\n",
    "print(type(df.index))\n",
    "df.lon = df.lon/10000000\n",
    "df.lat = df.lat/10000000\n",
    "#df['location'] = 'roadtrip'\n",
    "#df['session'] = 'trip'"
   ]
  },
  {
   "cell_type": "code",
   "execution_count": 39,
   "metadata": {},
   "outputs": [],
   "source": [
    "# with InfluxDBClient(url=\"192.168.1.147:8086\", token=token, org=org,debug=True) as _client:\n",
    "#     point_settings = PointSettings(**{\"type\": \"vix-daily\"})\n",
    "#     point_settings.add_default_tag(\"example-name\", \"ingest-data-frame\")\n",
    "#     write_api = _client.write_api(write_options=SYNCHRONOUS, point_settings=point_settings)\n",
    "#     write_api.write(bucket=bucket, record=df, data_frame_measurement_name=\"trackdays\",write_precision=WritePrecision.MS)\n",
    "\n"
   ]
  },
  {
   "cell_type": "code",
   "execution_count": 40,
   "metadata": {},
   "outputs": [],
   "source": [
    "\n",
    "\n",
    "# with InfluxDBClient(url=\"192.168.1.147:8086\", token=token, org=org,debug=True) as _client:\n",
    "\n",
    "#     with _client.write_api(write_options=WriteOptions(batch_size=500,\n",
    "#                                                       flush_interval=10_000,\n",
    "#                                                       jitter_interval=2_000,\n",
    "#                                                       retry_interval=5_000,\n",
    "#                                                       max_retries=5,\n",
    "#                                                       max_retry_delay=30_000,\n",
    "#                                                       exponential_base=2)) as _write_client:\n",
    "#         _write_client.write(bucket=bucket,record=df,data_frame_measurement_name='trackdays',data_frame_tag_columns=['location'],write_precision=WritePrecision.MS)\n",
    "        "
   ]
  },
  {
   "cell_type": "code",
   "execution_count": 41,
   "metadata": {},
   "outputs": [
    {
     "name": "stdout",
     "output_type": "stream",
     "text": [
      "Wait to finishing ingesting DataFrame...\n"
     ]
    }
   ],
   "source": [
    "with InfluxDBClient(url=\"192.168.1.147:8086\", token=token, org=org,debug=False) as _client:\n",
    "    with _client.write_api() as write_api:\n",
    "        write_api.write(bucket=bucket, record=df,\n",
    "                        data_frame_tag_columns=['location'],\n",
    "                        data_frame_measurement_name=\"trial4\")\n",
    "        print(\"Wait to finishing ingesting DataFrame...\")\n"
   ]
  },
  {
   "cell_type": "code",
   "execution_count": null,
   "metadata": {},
   "outputs": [],
   "source": []
  },
  {
   "cell_type": "code",
   "execution_count": 42,
   "metadata": {},
   "outputs": [
    {
     "data": {
      "text/html": [
       "<div>\n",
       "<style scoped>\n",
       "    .dataframe tbody tr th:only-of-type {\n",
       "        vertical-align: middle;\n",
       "    }\n",
       "\n",
       "    .dataframe tbody tr th {\n",
       "        vertical-align: top;\n",
       "    }\n",
       "\n",
       "    .dataframe thead th {\n",
       "        text-align: right;\n",
       "    }\n",
       "</style>\n",
       "<table border=\"1\" class=\"dataframe\">\n",
       "  <thead>\n",
       "    <tr style=\"text-align: right;\">\n",
       "      <th></th>\n",
       "      <th>lon</th>\n",
       "      <th>lat</th>\n",
       "      <th>hMSL(mm)</th>\n",
       "      <th>gSpeed(mm/s)</th>\n",
       "      <th>headMot</th>\n",
       "      <th>satcnt</th>\n",
       "      <th>fixType</th>\n",
       "      <th>fixstatus</th>\n",
       "      <th>accel_lon</th>\n",
       "      <th>accel_lat</th>\n",
       "      <th>accel_gvt</th>\n",
       "      <th>imu_temp</th>\n",
       "      <th>baro_pres</th>\n",
       "      <th>baro_temp</th>\n",
       "    </tr>\n",
       "  </thead>\n",
       "  <tbody>\n",
       "    <tr>\n",
       "      <th>2022-07-02 17:11:53.960</th>\n",
       "      <td>-121.943548</td>\n",
       "      <td>37.396609</td>\n",
       "      <td>-6318</td>\n",
       "      <td>33</td>\n",
       "      <td>274</td>\n",
       "      <td>11</td>\n",
       "      <td>3</td>\n",
       "      <td>1</td>\n",
       "      <td>-0.000000</td>\n",
       "      <td>-0.000000</td>\n",
       "      <td>-0.000000</td>\n",
       "      <td>0.000000</td>\n",
       "      <td>0.000000</td>\n",
       "      <td>0.000000</td>\n",
       "    </tr>\n",
       "    <tr>\n",
       "      <th>2022-07-02 17:11:54.800</th>\n",
       "      <td>-121.943549</td>\n",
       "      <td>37.396609</td>\n",
       "      <td>-6219</td>\n",
       "      <td>38</td>\n",
       "      <td>274</td>\n",
       "      <td>11</td>\n",
       "      <td>3</td>\n",
       "      <td>1</td>\n",
       "      <td>0.092773</td>\n",
       "      <td>0.003784</td>\n",
       "      <td>0.993042</td>\n",
       "      <td>28.867809</td>\n",
       "      <td>101655.179688</td>\n",
       "      <td>27.401802</td>\n",
       "    </tr>\n",
       "    <tr>\n",
       "      <th>2022-07-02 17:11:54.120</th>\n",
       "      <td>-121.943549</td>\n",
       "      <td>37.396609</td>\n",
       "      <td>-6140</td>\n",
       "      <td>58</td>\n",
       "      <td>274</td>\n",
       "      <td>11</td>\n",
       "      <td>3</td>\n",
       "      <td>1</td>\n",
       "      <td>0.087769</td>\n",
       "      <td>0.007935</td>\n",
       "      <td>0.985596</td>\n",
       "      <td>29.063648</td>\n",
       "      <td>101654.742188</td>\n",
       "      <td>27.398109</td>\n",
       "    </tr>\n",
       "    <tr>\n",
       "      <th>2022-07-02 17:11:54.160</th>\n",
       "      <td>-121.943549</td>\n",
       "      <td>37.396609</td>\n",
       "      <td>-6098</td>\n",
       "      <td>79</td>\n",
       "      <td>274</td>\n",
       "      <td>11</td>\n",
       "      <td>3</td>\n",
       "      <td>1</td>\n",
       "      <td>0.080444</td>\n",
       "      <td>0.012451</td>\n",
       "      <td>0.987061</td>\n",
       "      <td>29.014688</td>\n",
       "      <td>101655.171875</td>\n",
       "      <td>27.401283</td>\n",
       "    </tr>\n",
       "    <tr>\n",
       "      <th>2022-07-02 17:11:54.200</th>\n",
       "      <td>-121.943549</td>\n",
       "      <td>37.396609</td>\n",
       "      <td>-6030</td>\n",
       "      <td>75</td>\n",
       "      <td>274</td>\n",
       "      <td>11</td>\n",
       "      <td>3</td>\n",
       "      <td>1</td>\n",
       "      <td>0.077637</td>\n",
       "      <td>0.014771</td>\n",
       "      <td>0.988403</td>\n",
       "      <td>28.867809</td>\n",
       "      <td>101654.789062</td>\n",
       "      <td>27.401802</td>\n",
       "    </tr>\n",
       "    <tr>\n",
       "      <th>2022-07-02 17:11:54.240</th>\n",
       "      <td>-121.943550</td>\n",
       "      <td>37.396608</td>\n",
       "      <td>-5970</td>\n",
       "      <td>25</td>\n",
       "      <td>274</td>\n",
       "      <td>11</td>\n",
       "      <td>3</td>\n",
       "      <td>1</td>\n",
       "      <td>0.078003</td>\n",
       "      <td>0.013672</td>\n",
       "      <td>0.988525</td>\n",
       "      <td>28.867809</td>\n",
       "      <td>101654.664062</td>\n",
       "      <td>27.403862</td>\n",
       "    </tr>\n",
       "    <tr>\n",
       "      <th>2022-07-02 17:11:54.280</th>\n",
       "      <td>-121.943550</td>\n",
       "      <td>37.396608</td>\n",
       "      <td>-5898</td>\n",
       "      <td>34</td>\n",
       "      <td>274</td>\n",
       "      <td>11</td>\n",
       "      <td>3</td>\n",
       "      <td>1</td>\n",
       "      <td>0.078735</td>\n",
       "      <td>0.008667</td>\n",
       "      <td>0.989014</td>\n",
       "      <td>29.063648</td>\n",
       "      <td>101654.921875</td>\n",
       "      <td>27.408585</td>\n",
       "    </tr>\n",
       "    <tr>\n",
       "      <th>2022-07-02 17:11:54.320</th>\n",
       "      <td>-121.943550</td>\n",
       "      <td>37.396608</td>\n",
       "      <td>-5808</td>\n",
       "      <td>63</td>\n",
       "      <td>274</td>\n",
       "      <td>11</td>\n",
       "      <td>3</td>\n",
       "      <td>1</td>\n",
       "      <td>0.083252</td>\n",
       "      <td>0.002808</td>\n",
       "      <td>0.988159</td>\n",
       "      <td>29.014688</td>\n",
       "      <td>101654.734375</td>\n",
       "      <td>27.406960</td>\n",
       "    </tr>\n",
       "    <tr>\n",
       "      <th>2022-07-02 17:11:54.360</th>\n",
       "      <td>-121.943550</td>\n",
       "      <td>37.396608</td>\n",
       "      <td>-5720</td>\n",
       "      <td>62</td>\n",
       "      <td>274</td>\n",
       "      <td>11</td>\n",
       "      <td>3</td>\n",
       "      <td>1</td>\n",
       "      <td>0.088257</td>\n",
       "      <td>-0.000488</td>\n",
       "      <td>0.989380</td>\n",
       "      <td>28.867809</td>\n",
       "      <td>101655.195312</td>\n",
       "      <td>27.418541</td>\n",
       "    </tr>\n",
       "    <tr>\n",
       "      <th>2022-07-02 17:11:54.400</th>\n",
       "      <td>-121.943551</td>\n",
       "      <td>37.396608</td>\n",
       "      <td>-5615</td>\n",
       "      <td>23</td>\n",
       "      <td>274</td>\n",
       "      <td>11</td>\n",
       "      <td>3</td>\n",
       "      <td>1</td>\n",
       "      <td>0.089966</td>\n",
       "      <td>-0.002197</td>\n",
       "      <td>0.988892</td>\n",
       "      <td>28.818850</td>\n",
       "      <td>101655.390625</td>\n",
       "      <td>27.418541</td>\n",
       "    </tr>\n",
       "  </tbody>\n",
       "</table>\n",
       "</div>"
      ],
      "text/plain": [
       "                                lon        lat  hMSL(mm)  gSpeed(mm/s)  \\\n",
       "2022-07-02 17:11:53.960 -121.943548  37.396609     -6318            33   \n",
       "2022-07-02 17:11:54.800 -121.943549  37.396609     -6219            38   \n",
       "2022-07-02 17:11:54.120 -121.943549  37.396609     -6140            58   \n",
       "2022-07-02 17:11:54.160 -121.943549  37.396609     -6098            79   \n",
       "2022-07-02 17:11:54.200 -121.943549  37.396609     -6030            75   \n",
       "2022-07-02 17:11:54.240 -121.943550  37.396608     -5970            25   \n",
       "2022-07-02 17:11:54.280 -121.943550  37.396608     -5898            34   \n",
       "2022-07-02 17:11:54.320 -121.943550  37.396608     -5808            63   \n",
       "2022-07-02 17:11:54.360 -121.943550  37.396608     -5720            62   \n",
       "2022-07-02 17:11:54.400 -121.943551  37.396608     -5615            23   \n",
       "\n",
       "                         headMot  satcnt  fixType  fixstatus  accel_lon  \\\n",
       "2022-07-02 17:11:53.960      274      11        3          1  -0.000000   \n",
       "2022-07-02 17:11:54.800      274      11        3          1   0.092773   \n",
       "2022-07-02 17:11:54.120      274      11        3          1   0.087769   \n",
       "2022-07-02 17:11:54.160      274      11        3          1   0.080444   \n",
       "2022-07-02 17:11:54.200      274      11        3          1   0.077637   \n",
       "2022-07-02 17:11:54.240      274      11        3          1   0.078003   \n",
       "2022-07-02 17:11:54.280      274      11        3          1   0.078735   \n",
       "2022-07-02 17:11:54.320      274      11        3          1   0.083252   \n",
       "2022-07-02 17:11:54.360      274      11        3          1   0.088257   \n",
       "2022-07-02 17:11:54.400      274      11        3          1   0.089966   \n",
       "\n",
       "                         accel_lat  accel_gvt   imu_temp      baro_pres  \\\n",
       "2022-07-02 17:11:53.960  -0.000000  -0.000000   0.000000       0.000000   \n",
       "2022-07-02 17:11:54.800   0.003784   0.993042  28.867809  101655.179688   \n",
       "2022-07-02 17:11:54.120   0.007935   0.985596  29.063648  101654.742188   \n",
       "2022-07-02 17:11:54.160   0.012451   0.987061  29.014688  101655.171875   \n",
       "2022-07-02 17:11:54.200   0.014771   0.988403  28.867809  101654.789062   \n",
       "2022-07-02 17:11:54.240   0.013672   0.988525  28.867809  101654.664062   \n",
       "2022-07-02 17:11:54.280   0.008667   0.989014  29.063648  101654.921875   \n",
       "2022-07-02 17:11:54.320   0.002808   0.988159  29.014688  101654.734375   \n",
       "2022-07-02 17:11:54.360  -0.000488   0.989380  28.867809  101655.195312   \n",
       "2022-07-02 17:11:54.400  -0.002197   0.988892  28.818850  101655.390625   \n",
       "\n",
       "                         baro_temp  \n",
       "2022-07-02 17:11:53.960   0.000000  \n",
       "2022-07-02 17:11:54.800  27.401802  \n",
       "2022-07-02 17:11:54.120  27.398109  \n",
       "2022-07-02 17:11:54.160  27.401283  \n",
       "2022-07-02 17:11:54.200  27.401802  \n",
       "2022-07-02 17:11:54.240  27.403862  \n",
       "2022-07-02 17:11:54.280  27.408585  \n",
       "2022-07-02 17:11:54.320  27.406960  \n",
       "2022-07-02 17:11:54.360  27.418541  \n",
       "2022-07-02 17:11:54.400  27.418541  "
      ]
     },
     "execution_count": 42,
     "metadata": {},
     "output_type": "execute_result"
    }
   ],
   "source": [
    "df.head(10)"
   ]
  },
  {
   "cell_type": "code",
   "execution_count": 43,
   "metadata": {},
   "outputs": [
    {
     "data": {
      "text/plain": [
       "<AxesSubplot:>"
      ]
     },
     "execution_count": 43,
     "metadata": {},
     "output_type": "execute_result"
    },
    {
     "data": {
      "application/vnd.jupyter.widget-view+json": {
       "model_id": "9e0e395cc9ab43f3b76911129821b903",
       "version_major": 2,
       "version_minor": 0
      },
      "image/png": "[encoded data removed]",
      "text/html": [
       "\n",
       "            <div style=\"display: inline-block;\">\n",
       "                <div class=\"jupyter-widgets widget-label\" style=\"text-align: center;\">\n",
       "                    Figure\n",
       "                </div>\n",
       "                <img src='data:image/png;base64,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' width=640.0/>\n",
       "            </div>\n",
       "        "
      ],
      "text/plain": [
       "Canvas(toolbar=Toolbar(toolitems=[('Home', 'Reset original view', 'home', 'home'), ('Back', 'Back to previous …"
      ]
     },
     "metadata": {},
     "output_type": "display_data"
    }
   ],
   "source": [
    "df.plot(y='accel_lat')"
   ]
  },
  {
   "cell_type": "code",
   "execution_count": 44,
   "metadata": {},
   "outputs": [
    {
     "data": {
      "application/vnd.jupyter.widget-view+json": {
       "model_id": "acca1ffd94004318a9b48cb90795802a",
       "version_major": 2,
       "version_minor": 0
      },
      "text/plain": [
       "Map(center=[37.2089308, -121.7732394], controls=(ZoomControl(options=['position', 'zoom_in_text', 'zoom_in_tit…"
      ]
     },
     "metadata": {},
     "output_type": "display_data"
    }
   ],
   "source": [
    "\n",
    "coords = df[['lat', 'lon']].values.tolist()\n",
    "\n",
    "center = ((df.lat.max()+df.lat.min())/2, (df.lon.max()+df.lon.min())/2)\n",
    "\n",
    "#m = Map(basemap=basemaps.OpenStreetMap.Mapnik, center=center, zoom=17)\n",
    "m = Map(basemap=basemaps.Esri.WorldImagery,center=center, zoom=12)\n",
    "m.layout.height = '2000px'\n",
    "\n",
    "#marker = Marker(location=center, draggable=True)\n",
    "# m.add_layer(marker)\n",
    "\n",
    "testline = Polyline(locations=coords,\n",
    "                    color='#0000fF', fill=False, weight=2, opacity=0.8)\n",
    "\n",
    "m.add_layer(testline)\n",
    "\n",
    "display(m)"
   ]
  },
  {
   "cell_type": "code",
   "execution_count": null,
   "metadata": {},
   "outputs": [],
   "source": []
  }
 ],
 "metadata": {
  "kernelspec": {
   "display_name": "Python 3.10.4 64-bit",
   "language": "python",
   "name": "python3"
  },
  "language_info": {
   "codemirror_mode": {
    "name": "ipython",
    "version": 3
   },
   "file_extension": ".py",
   "mimetype": "text/x-python",
   "name": "python",
   "nbconvert_exporter": "python",
   "pygments_lexer": "ipython3",
   "version": "3.10.4"
  },
  "orig_nbformat": 4,
  "vscode": {
   "interpreter": {
    "hash": "767d51c1340bd893661ea55ea3124f6de3c7a262a8b4abca0554b478b1e2ff90"
   }
  }
 },
 "nbformat": 4,
 "nbformat_minor": 2
}
