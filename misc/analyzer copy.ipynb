{
 "cells": [
  {
   "cell_type": "code",
   "execution_count": 74,
   "metadata": {},
   "outputs": [],
   "source": [
    "#from mpl_toolkits import mplot3d\n",
    "\n",
    "import numpy as np\n",
    "import matplotlib.pyplot as plt\n",
    "import pandas as pd\n",
    "from ipyleaflet import *\n",
    "from ipyleaflet.velocity import Velocity\n",
    "import os\n",
    "import numpy as np\n",
    "import glob\n",
    " \n",
    "%matplotlib widget\n"
   ]
  },
  {
   "cell_type": "markdown",
   "metadata": {},
   "source": []
  },
  {
   "cell_type": "code",
   "execution_count": 75,
   "metadata": {},
   "outputs": [],
   "source": [
    "#file =  os.path.expanduser(f'/home/james/workspace/logs/TrackLogs/20210904Thunderhill5mile/summary.txt')\n",
    "file_name=  os.path.expanduser(f'/home/james/workspace/logs/GPS/yousemite/000005.CSV')\n",
    "\n"
   ]
  },
  {
   "cell_type": "code",
   "execution_count": 76,
   "metadata": {},
   "outputs": [
    {
     "data": {
      "text/html": [
       "<div>\n",
       "<style scoped>\n",
       "    .dataframe tbody tr th:only-of-type {\n",
       "        vertical-align: middle;\n",
       "    }\n",
       "\n",
       "    .dataframe tbody tr th {\n",
       "        vertical-align: top;\n",
       "    }\n",
       "\n",
       "    .dataframe thead th {\n",
       "        text-align: right;\n",
       "    }\n",
       "</style>\n",
       "<table border=\"1\" class=\"dataframe\">\n",
       "  <thead>\n",
       "    <tr style=\"text-align: right;\">\n",
       "      <th></th>\n",
       "      <th>timestamp(ms)</th>\n",
       "      <th>year</th>\n",
       "      <th>month</th>\n",
       "      <th>day</th>\n",
       "      <th>hour</th>\n",
       "      <th>min</th>\n",
       "      <th>sec</th>\n",
       "      <th>iToW(ms)</th>\n",
       "      <th>lon</th>\n",
       "      <th>lat</th>\n",
       "      <th>hMSL(mm)</th>\n",
       "      <th>gSpeed(mm/s)</th>\n",
       "      <th>headMot</th>\n",
       "      <th>satcnt</th>\n",
       "      <th>fixType</th>\n",
       "      <th>fixstatus</th>\n",
       "      <th>accel_lon</th>\n",
       "      <th>accel_lat</th>\n",
       "      <th>accel_gvt</th>\n",
       "      <th>imu_temp</th>\n",
       "    </tr>\n",
       "  </thead>\n",
       "  <tbody>\n",
       "    <tr>\n",
       "      <th>809</th>\n",
       "      <td>34336</td>\n",
       "      <td>2021</td>\n",
       "      <td>10</td>\n",
       "      <td>16</td>\n",
       "      <td>21</td>\n",
       "      <td>24</td>\n",
       "      <td>2</td>\n",
       "      <td>595460480</td>\n",
       "      <td>-1191127693</td>\n",
       "      <td>379475150</td>\n",
       "      <td>2078556</td>\n",
       "      <td>65</td>\n",
       "      <td>200</td>\n",
       "      <td>5</td>\n",
       "      <td>3</td>\n",
       "      <td>1</td>\n",
       "      <td>-0.177368</td>\n",
       "      <td>0.059692</td>\n",
       "      <td>0.937500</td>\n",
       "      <td>59.859241</td>\n",
       "    </tr>\n",
       "    <tr>\n",
       "      <th>810</th>\n",
       "      <td>34374</td>\n",
       "      <td>2021</td>\n",
       "      <td>10</td>\n",
       "      <td>16</td>\n",
       "      <td>21</td>\n",
       "      <td>24</td>\n",
       "      <td>2</td>\n",
       "      <td>595460520</td>\n",
       "      <td>-1191127691</td>\n",
       "      <td>379475150</td>\n",
       "      <td>2078615</td>\n",
       "      <td>104</td>\n",
       "      <td>200</td>\n",
       "      <td>5</td>\n",
       "      <td>3</td>\n",
       "      <td>1</td>\n",
       "      <td>-0.161865</td>\n",
       "      <td>0.069458</td>\n",
       "      <td>0.952148</td>\n",
       "      <td>59.761322</td>\n",
       "    </tr>\n",
       "    <tr>\n",
       "      <th>811</th>\n",
       "      <td>34414</td>\n",
       "      <td>2021</td>\n",
       "      <td>10</td>\n",
       "      <td>16</td>\n",
       "      <td>21</td>\n",
       "      <td>24</td>\n",
       "      <td>2</td>\n",
       "      <td>595460560</td>\n",
       "      <td>-1191127691</td>\n",
       "      <td>379475152</td>\n",
       "      <td>2078673</td>\n",
       "      <td>53</td>\n",
       "      <td>200</td>\n",
       "      <td>5</td>\n",
       "      <td>3</td>\n",
       "      <td>1</td>\n",
       "      <td>-0.148926</td>\n",
       "      <td>0.043945</td>\n",
       "      <td>1.003418</td>\n",
       "      <td>59.859241</td>\n",
       "    </tr>\n",
       "    <tr>\n",
       "      <th>812</th>\n",
       "      <td>34454</td>\n",
       "      <td>2021</td>\n",
       "      <td>10</td>\n",
       "      <td>16</td>\n",
       "      <td>21</td>\n",
       "      <td>24</td>\n",
       "      <td>2</td>\n",
       "      <td>595460600</td>\n",
       "      <td>-1191127690</td>\n",
       "      <td>379475152</td>\n",
       "      <td>2078701</td>\n",
       "      <td>71</td>\n",
       "      <td>200</td>\n",
       "      <td>5</td>\n",
       "      <td>3</td>\n",
       "      <td>1</td>\n",
       "      <td>-0.189575</td>\n",
       "      <td>0.053711</td>\n",
       "      <td>0.914062</td>\n",
       "      <td>59.908203</td>\n",
       "    </tr>\n",
       "    <tr>\n",
       "      <th>813</th>\n",
       "      <td>34495</td>\n",
       "      <td>2021</td>\n",
       "      <td>10</td>\n",
       "      <td>16</td>\n",
       "      <td>21</td>\n",
       "      <td>24</td>\n",
       "      <td>2</td>\n",
       "      <td>595460640</td>\n",
       "      <td>-1191127692</td>\n",
       "      <td>379475152</td>\n",
       "      <td>2078709</td>\n",
       "      <td>29</td>\n",
       "      <td>200</td>\n",
       "      <td>5</td>\n",
       "      <td>3</td>\n",
       "      <td>1</td>\n",
       "      <td>-0.143066</td>\n",
       "      <td>0.031372</td>\n",
       "      <td>0.998413</td>\n",
       "      <td>59.908203</td>\n",
       "    </tr>\n",
       "    <tr>\n",
       "      <th>...</th>\n",
       "      <td>...</td>\n",
       "      <td>...</td>\n",
       "      <td>...</td>\n",
       "      <td>...</td>\n",
       "      <td>...</td>\n",
       "      <td>...</td>\n",
       "      <td>...</td>\n",
       "      <td>...</td>\n",
       "      <td>...</td>\n",
       "      <td>...</td>\n",
       "      <td>...</td>\n",
       "      <td>...</td>\n",
       "      <td>...</td>\n",
       "      <td>...</td>\n",
       "      <td>...</td>\n",
       "      <td>...</td>\n",
       "      <td>...</td>\n",
       "      <td>...</td>\n",
       "      <td>...</td>\n",
       "      <td>...</td>\n",
       "    </tr>\n",
       "    <tr>\n",
       "      <th>200355</th>\n",
       "      <td>8011745</td>\n",
       "      <td>2021</td>\n",
       "      <td>10</td>\n",
       "      <td>16</td>\n",
       "      <td>23</td>\n",
       "      <td>37</td>\n",
       "      <td>10</td>\n",
       "      <td>603448680</td>\n",
       "      <td>-1203440131</td>\n",
       "      <td>379765570</td>\n",
       "      <td>629036</td>\n",
       "      <td>31</td>\n",
       "      <td>209</td>\n",
       "      <td>16</td>\n",
       "      <td>3</td>\n",
       "      <td>1</td>\n",
       "      <td>-0.199707</td>\n",
       "      <td>-0.021973</td>\n",
       "      <td>0.959717</td>\n",
       "      <td>43.702572</td>\n",
       "    </tr>\n",
       "    <tr>\n",
       "      <th>200356</th>\n",
       "      <td>8011785</td>\n",
       "      <td>2021</td>\n",
       "      <td>10</td>\n",
       "      <td>16</td>\n",
       "      <td>23</td>\n",
       "      <td>37</td>\n",
       "      <td>10</td>\n",
       "      <td>603448720</td>\n",
       "      <td>-1203440131</td>\n",
       "      <td>379765570</td>\n",
       "      <td>629033</td>\n",
       "      <td>17</td>\n",
       "      <td>209</td>\n",
       "      <td>16</td>\n",
       "      <td>3</td>\n",
       "      <td>1</td>\n",
       "      <td>-0.193604</td>\n",
       "      <td>-0.009521</td>\n",
       "      <td>0.978760</td>\n",
       "      <td>43.506733</td>\n",
       "    </tr>\n",
       "    <tr>\n",
       "      <th>200357</th>\n",
       "      <td>8011827</td>\n",
       "      <td>2021</td>\n",
       "      <td>10</td>\n",
       "      <td>16</td>\n",
       "      <td>23</td>\n",
       "      <td>37</td>\n",
       "      <td>10</td>\n",
       "      <td>603448760</td>\n",
       "      <td>-1203440131</td>\n",
       "      <td>379765570</td>\n",
       "      <td>629038</td>\n",
       "      <td>6</td>\n",
       "      <td>209</td>\n",
       "      <td>16</td>\n",
       "      <td>3</td>\n",
       "      <td>1</td>\n",
       "      <td>-0.204834</td>\n",
       "      <td>-0.011719</td>\n",
       "      <td>0.972656</td>\n",
       "      <td>43.359856</td>\n",
       "    </tr>\n",
       "    <tr>\n",
       "      <th>200358</th>\n",
       "      <td>8011867</td>\n",
       "      <td>2021</td>\n",
       "      <td>10</td>\n",
       "      <td>16</td>\n",
       "      <td>23</td>\n",
       "      <td>37</td>\n",
       "      <td>10</td>\n",
       "      <td>603448800</td>\n",
       "      <td>-1203440131</td>\n",
       "      <td>379765571</td>\n",
       "      <td>629031</td>\n",
       "      <td>8</td>\n",
       "      <td>209</td>\n",
       "      <td>16</td>\n",
       "      <td>3</td>\n",
       "      <td>1</td>\n",
       "      <td>-0.206421</td>\n",
       "      <td>-0.022095</td>\n",
       "      <td>0.948975</td>\n",
       "      <td>43.751534</td>\n",
       "    </tr>\n",
       "    <tr>\n",
       "      <th>200359</th>\n",
       "      <td>8011907</td>\n",
       "      <td>2021</td>\n",
       "      <td>10</td>\n",
       "      <td>16</td>\n",
       "      <td>23</td>\n",
       "      <td>37</td>\n",
       "      <td>10</td>\n",
       "      <td>603448840</td>\n",
       "      <td>-1203440130</td>\n",
       "      <td>379765570</td>\n",
       "      <td>629034</td>\n",
       "      <td>25</td>\n",
       "      <td>209</td>\n",
       "      <td>16</td>\n",
       "      <td>3</td>\n",
       "      <td>1</td>\n",
       "      <td>-0.195557</td>\n",
       "      <td>-0.020142</td>\n",
       "      <td>0.956177</td>\n",
       "      <td>43.555695</td>\n",
       "    </tr>\n",
       "  </tbody>\n",
       "</table>\n",
       "<p>199551 rows × 20 columns</p>\n",
       "</div>"
      ],
      "text/plain": [
       "        timestamp(ms)  year  month  day  hour  min  sec   iToW(ms)  \\\n",
       "809             34336  2021     10   16    21   24    2  595460480   \n",
       "810             34374  2021     10   16    21   24    2  595460520   \n",
       "811             34414  2021     10   16    21   24    2  595460560   \n",
       "812             34454  2021     10   16    21   24    2  595460600   \n",
       "813             34495  2021     10   16    21   24    2  595460640   \n",
       "...               ...   ...    ...  ...   ...  ...  ...        ...   \n",
       "200355        8011745  2021     10   16    23   37   10  603448680   \n",
       "200356        8011785  2021     10   16    23   37   10  603448720   \n",
       "200357        8011827  2021     10   16    23   37   10  603448760   \n",
       "200358        8011867  2021     10   16    23   37   10  603448800   \n",
       "200359        8011907  2021     10   16    23   37   10  603448840   \n",
       "\n",
       "               lon        lat  hMSL(mm)  gSpeed(mm/s)  headMot  satcnt  \\\n",
       "809    -1191127693  379475150   2078556            65      200       5   \n",
       "810    -1191127691  379475150   2078615           104      200       5   \n",
       "811    -1191127691  379475152   2078673            53      200       5   \n",
       "812    -1191127690  379475152   2078701            71      200       5   \n",
       "813    -1191127692  379475152   2078709            29      200       5   \n",
       "...            ...        ...       ...           ...      ...     ...   \n",
       "200355 -1203440131  379765570    629036            31      209      16   \n",
       "200356 -1203440131  379765570    629033            17      209      16   \n",
       "200357 -1203440131  379765570    629038             6      209      16   \n",
       "200358 -1203440131  379765571    629031             8      209      16   \n",
       "200359 -1203440130  379765570    629034            25      209      16   \n",
       "\n",
       "        fixType  fixstatus  accel_lon  accel_lat  accel_gvt   imu_temp  \n",
       "809           3          1  -0.177368   0.059692   0.937500  59.859241  \n",
       "810           3          1  -0.161865   0.069458   0.952148  59.761322  \n",
       "811           3          1  -0.148926   0.043945   1.003418  59.859241  \n",
       "812           3          1  -0.189575   0.053711   0.914062  59.908203  \n",
       "813           3          1  -0.143066   0.031372   0.998413  59.908203  \n",
       "...         ...        ...        ...        ...        ...        ...  \n",
       "200355        3          1  -0.199707  -0.021973   0.959717  43.702572  \n",
       "200356        3          1  -0.193604  -0.009521   0.978760  43.506733  \n",
       "200357        3          1  -0.204834  -0.011719   0.972656  43.359856  \n",
       "200358        3          1  -0.206421  -0.022095   0.948975  43.751534  \n",
       "200359        3          1  -0.195557  -0.020142   0.956177  43.555695  \n",
       "\n",
       "[199551 rows x 20 columns]"
      ]
     },
     "execution_count": 76,
     "metadata": {},
     "output_type": "execute_result"
    }
   ],
   "source": [
    "#result_folder = os.path.expanduser(f'/home/james/workspace/logs/TrackLogs/20211001ThunderhillWestCW')\n",
    "#all_files = glob.glob(result_folder+ \"/session*.csv\")\n",
    "\n",
    "df = pd.read_csv(file_name, index_col=None, header=0)\n",
    "df = df[df.fixstatus!=0]\n",
    "df"
   ]
  },
  {
   "cell_type": "code",
   "execution_count": null,
   "metadata": {},
   "outputs": [],
   "source": []
  },
  {
   "cell_type": "code",
   "execution_count": 77,
   "metadata": {},
   "outputs": [
    {
     "data": {
      "text/plain": [
       "(38.1567751, -119.7283837)"
      ]
     },
     "execution_count": 77,
     "metadata": {},
     "output_type": "execute_result"
    }
   ],
   "source": [
    "test_coords = (df[['lat', 'lon']].values/10000000).tolist()\n",
    "center = ((df.lat.max()+df.lat.min())/20000000, (df.lon.max()+df.lon.min())/20000000)\n",
    "center"
   ]
  },
  {
   "cell_type": "code",
   "execution_count": 78,
   "metadata": {},
   "outputs": [
    {
     "data": {
      "application/vnd.jupyter.widget-view+json": {
       "model_id": "2238c48087c34e40ada9a64918fb9b87",
       "version_major": 2,
       "version_minor": 0
      },
      "text/plain": [
       "Map(center=[38.1567751, -119.7283837], controls=(ZoomControl(options=['position', 'zoom_in_text', 'zoom_in_tit…"
      ]
     },
     "metadata": {},
     "output_type": "display_data"
    }
   ],
   "source": [
    "# Testline is blue\n",
    "# Refline is red\n",
    "\n",
    "#m = Map(basemap=basemaps.OpenStreetMap.Mapnik, center=center, zoom=17)\n",
    "m = Map(basemap=basemaps.Esri.WorldImagery, center = center, zoom=12)\n",
    "m.layout.height = '2000px'\n",
    "\n",
    "#marker = Marker(location=center, draggable=True)\n",
    "# m.add_layer(marker)\n",
    "\n",
    "testline = Polyline(locations=test_coords,\n",
    "                    color='#0000fF', fill=False, weight=2, opacity=0.8)\n",
    "\n",
    "m.add_layer(testline)\n",
    "\n",
    "# Now that the marker is on the Map, you can drag it with your mouse,\n",
    "# it will automatically update the `marker.location` attribute in Python\n",
    "\n",
    "# You can also update the marker location from Python, that will update the\n",
    "# marker location on the Map:\n",
    "#marker.location = (50, 356)\n",
    "#m.save('my_map.html', title='My Map')\n",
    "display(m)\n",
    "#m.save('20211002ThunderhillWestCW.html')\n"
   ]
  },
  {
   "cell_type": "code",
   "execution_count": null,
   "metadata": {},
   "outputs": [],
   "source": []
  },
  {
   "cell_type": "code",
   "execution_count": 79,
   "metadata": {},
   "outputs": [
    {
     "data": {
      "application/vnd.jupyter.widget-view+json": {
       "model_id": "1127fad980134377aad4d6fc99b225fc",
       "version_major": 2,
       "version_minor": 0
      },
      "text/plain": [
       "Canvas(toolbar=Toolbar(toolitems=[('Home', 'Reset original view', 'home', 'home'), ('Back', 'Back to previous …"
      ]
     },
     "metadata": {},
     "output_type": "display_data"
    }
   ],
   "source": [
    "plt.figure(figsize=(13, 10))\n",
    "\n",
    "plt.scatter(df['timestamp(ms)'], df['accel_lon'], s=0.1)\n",
    "plt.scatter(df['timestamp(ms)'], df['accel_lat'], s=0.1)\n",
    "plt.scatter(df['timestamp(ms)'], df['accel_gvt'], s=0.1)\n",
    "#plt.ylim((0,120))\n",
    "#plt.xlim((200000,400000))\n",
    "\n",
    "#ax2= ax.twinx()\n",
    "\n",
    "plt.show()"
   ]
  },
  {
   "cell_type": "code",
   "execution_count": 80,
   "metadata": {},
   "outputs": [
    {
     "data": {
      "application/vnd.jupyter.widget-view+json": {
       "model_id": "9eaee9bd080a46c8948a6717441854b4",
       "version_major": 2,
       "version_minor": 0
      },
      "text/plain": [
       "Canvas(toolbar=Toolbar(toolitems=[('Home', 'Reset original view', 'home', 'home'), ('Back', 'Back to previous …"
      ]
     },
     "metadata": {},
     "output_type": "display_data"
    }
   ],
   "source": [
    "\n",
    "plt.figure(figsize=(13, 10))\n",
    "plt.scatter(df['timestamp(ms)'], df['hMSL(mm)']*0.001, s=0.1)\n",
    "\n",
    "\n",
    "#plt.ylim((0,120))\n",
    "#plt.xlim((200000,400000))\n",
    "\n",
    "plt.show()"
   ]
  },
  {
   "cell_type": "code",
   "execution_count": 81,
   "metadata": {},
   "outputs": [
    {
     "data": {
      "application/vnd.jupyter.widget-view+json": {
       "model_id": "e089694ea84a4b3984e847b0f0530259",
       "version_major": 2,
       "version_minor": 0
      },
      "text/plain": [
       "Canvas(toolbar=Toolbar(toolitems=[('Home', 'Reset original view', 'home', 'home'), ('Back', 'Back to previous …"
      ]
     },
     "metadata": {},
     "output_type": "display_data"
    }
   ],
   "source": [
    "plt.figure(figsize=(13, 10))\n",
    "plt.scatter(df['timestamp(ms)'], df['gSpeed(mm/s)']*0.00223694, s=0.1)\n",
    "\n",
    "\n",
    "plt.ylim((0,120))\n",
    "#plt.xlim((200000,400000))\n",
    "\n",
    "plt.show()"
   ]
  },
  {
   "cell_type": "code",
   "execution_count": 82,
   "metadata": {},
   "outputs": [
    {
     "data": {
      "application/vnd.jupyter.widget-view+json": {
       "model_id": "fb2ef08efdf04703912bc6b948422e2b",
       "version_major": 2,
       "version_minor": 0
      },
      "text/plain": [
       "Canvas(toolbar=Toolbar(toolitems=[('Home', 'Reset original view', 'home', 'home'), ('Back', 'Back to previous …"
      ]
     },
     "metadata": {},
     "output_type": "display_data"
    }
   ],
   "source": [
    "plt.figure(figsize=(13, 10))\n",
    "\n",
    "plt.scatter(df['timestamp(ms)'], df['imu_temp'], s=0.1)\n",
    "#plt.ylim((0,120))\n",
    "#plt.xlim((200000,400000))\n",
    "\n",
    "#ax2= ax.twinx()\n",
    "\n",
    "plt.show()"
   ]
  },
  {
   "cell_type": "code",
   "execution_count": 83,
   "metadata": {},
   "outputs": [
    {
     "data": {
      "application/vnd.jupyter.widget-view+json": {
       "model_id": "e16e7276587749d99835827be2d93602",
       "version_major": 2,
       "version_minor": 0
      },
      "text/plain": [
       "Canvas(toolbar=Toolbar(toolitems=[('Home', 'Reset original view', 'home', 'home'), ('Back', 'Back to previous …"
      ]
     },
     "metadata": {},
     "output_type": "display_data"
    }
   ],
   "source": [
    "plt.figure(figsize=(13, 10))\n",
    "\n",
    "plt.scatter(df['timestamp(ms)'], df['fixType'], s=0.1)\n",
    "plt.scatter(df['timestamp(ms)'], df['fixstatus'], s=0.1)\n",
    "#plt.ylim((0,120))\n",
    "plt.scatter(df['timestamp(ms)'], df['satcnt'], s=0.1)\n",
    "\n",
    "#plt.xlim((200000,400000))\n",
    "\n",
    "plt.show()"
   ]
  },
  {
   "cell_type": "code",
   "execution_count": null,
   "metadata": {},
   "outputs": [],
   "source": []
  },
  {
   "cell_type": "code",
   "execution_count": null,
   "metadata": {},
   "outputs": [],
   "source": []
  },
  {
   "cell_type": "code",
   "execution_count": null,
   "metadata": {},
   "outputs": [],
   "source": []
  },
  {
   "cell_type": "code",
   "execution_count": null,
   "metadata": {},
   "outputs": [],
   "source": []
  },
  {
   "cell_type": "code",
   "execution_count": null,
   "metadata": {},
   "outputs": [],
   "source": []
  }
 ],
 "metadata": {
  "interpreter": {
   "hash": "767d51c1340bd893661ea55ea3124f6de3c7a262a8b4abca0554b478b1e2ff90"
  },
  "kernelspec": {
   "display_name": "Python 3.8.10 64-bit",
   "name": "python3"
  },
  "language_info": {
   "codemirror_mode": {
    "name": "ipython",
    "version": 3
   },
   "file_extension": ".py",
   "mimetype": "text/x-python",
   "name": "python",
   "nbconvert_exporter": "python",
   "pygments_lexer": "ipython3",
   "version": "3.10.4"
  },
  "orig_nbformat": 2
 },
 "nbformat": 4,
 "nbformat_minor": 2
}
